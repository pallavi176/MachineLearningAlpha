{
 "cells": [
  {
   "cell_type": "markdown",
   "metadata": {
    "id": "8X-ydECFCf1J"
   },
   "source": [
    "### Type-casting"
   ]
  },
  {
   "cell_type": "code",
   "execution_count": 4,
   "metadata": {
    "colab": {
     "base_uri": "https://localhost:8080/"
    },
    "id": "9YzeEZ6OUFMg",
    "outputId": "ef3aaac0-bf3d-4049-f0f7-e46b163e7acc"
   },
   "outputs": [
    {
     "data": {
      "text/plain": [
       "str"
      ]
     },
     "execution_count": 4,
     "metadata": {},
     "output_type": "execute_result"
    }
   ],
   "source": [
    "\"\"\"\n",
    "Replacement: Assigning new values to the same variable\n",
    "In all languages,\n",
    "1. New value can be same datatype\n",
    "Eg: a = 3.5\n",
    "a = 7.3\n",
    "\n",
    "Speciality in python -\n",
    "2. New value can also be a different datatype\n",
    "Below example:\n",
    "\n",
    "Metaphorical Example: Put something new in the container\n",
    "\"\"\"\n",
    "\n",
    "a = 3.5\n",
    "a = \"blah\"\n",
    "type(a)"
   ]
  },
  {
   "cell_type": "code",
   "execution_count": 5,
   "metadata": {
    "colab": {
     "base_uri": "https://localhost:8080/"
    },
    "id": "6gPmORCH-pf2",
    "outputId": "3877a98d-789a-4e09-e97c-ca6dd7e20b9a"
   },
   "outputs": [
    {
     "data": {
      "text/plain": [
       "int"
      ]
     },
     "execution_count": 5,
     "metadata": {},
     "output_type": "execute_result"
    }
   ],
   "source": [
    "\"\"\"\n",
    "Typecasting: Changing the data type\n",
    "\n",
    "Metaphorical Example: Initially container had ice. Now it has water.\n",
    "Same contents, but, different form!\n",
    "\"\"\"\n",
    "\n",
    "a = 3 # define 'a' as an int\n",
    "\n",
    "a = str(a) # changed the data type of 'a'\n",
    "type(a)\n",
    "\n",
    "a = int(a)\n",
    "type(a)"
   ]
  },
  {
   "cell_type": "code",
   "execution_count": 6,
   "metadata": {
    "id": "i4e1kHUJAdv9"
   },
   "outputs": [],
   "source": [
    "# More examples of typecasting\n",
    "\n",
    "a = 5\n",
    "x = str(a) # \"5\"\n",
    "y = int(a) # 5\n",
    "z = float(a) # 5.0"
   ]
  },
  {
   "cell_type": "code",
   "execution_count": null,
   "metadata": {
    "id": "Z4ZiLjQp919D"
   },
   "outputs": [],
   "source": []
  },
  {
   "cell_type": "markdown",
   "metadata": {
    "id": "ki01nZoRCd4X"
   },
   "source": [
    "### Looping"
   ]
  },
  {
   "cell_type": "code",
   "execution_count": 7,
   "metadata": {
    "id": "6JM3cXKmCfBE"
   },
   "outputs": [
    {
     "data": {
      "text/plain": [
       "'\\nQ1: Print all numbers from 5 to 100\\n'"
      ]
     },
     "execution_count": 7,
     "metadata": {},
     "output_type": "execute_result"
    }
   ],
   "source": [
    "\"\"\"\n",
    "Q1: Print all numbers from 5 to 100\n",
    "\"\"\""
   ]
  },
  {
   "cell_type": "code",
   "execution_count": 8,
   "metadata": {
    "colab": {
     "base_uri": "https://localhost:8080/"
    },
    "id": "bxNlM8pEFXxs",
    "outputId": "0f7ca51a-4c67-46cd-9642-ea96ef88da1a"
   },
   "outputs": [
    {
     "name": "stdout",
     "output_type": "stream",
     "text": [
      "All different types - 5 5 5.0 <class 'int'>\n"
     ]
    }
   ],
   "source": [
    "print('All different types -', x, y, z, type(a))"
   ]
  },
  {
   "cell_type": "code",
   "execution_count": 9,
   "metadata": {
    "colab": {
     "base_uri": "https://localhost:8080/"
    },
    "id": "rHQEJwvQF3T3",
    "outputId": "eff1e720-7e03-4ea1-f41e-ad6138584a34"
   },
   "outputs": [
    {
     "name": "stdout",
     "output_type": "stream",
     "text": [
      "5 6 7 8 9 10 11 12\n"
     ]
    }
   ],
   "source": [
    "print(5, 6, 7, 8, 9, 10, 11, 12)"
   ]
  },
  {
   "cell_type": "code",
   "execution_count": 10,
   "metadata": {
    "colab": {
     "base_uri": "https://localhost:8080/"
    },
    "id": "XbSWu52ZG-UP",
    "outputId": "de05f342-e3a3-4ed5-b307-912fae3a366c"
   },
   "outputs": [
    {
     "name": "stdout",
     "output_type": "stream",
     "text": [
      "range(5, 100)\n"
     ]
    }
   ],
   "source": [
    "print(range(5, 100))"
   ]
  },
  {
   "cell_type": "code",
   "execution_count": 12,
   "metadata": {
    "colab": {
     "base_uri": "https://localhost:8080/"
    },
    "id": "ULABXxkWGRA8",
    "outputId": "eee18773-8e83-477c-bce5-28e95d8e260d"
   },
   "outputs": [
    {
     "name": "stdout",
     "output_type": "stream",
     "text": [
      "5\n",
      "6\n",
      "7\n",
      "8\n",
      "9\n"
     ]
    }
   ],
   "source": [
    "\"\"\"\n",
    "range(5, 100): In each iteration, it'll throw out one value\n",
    "\n",
    "i: variable, take the thrown value, for each iteration\n",
    "\n",
    "First iteration:\n",
    "i = 5; I will execute all the below code, under 'for', assuming i =5\n",
    "\n",
    "Second iteration:\n",
    "i = 6, execute below code\n",
    "\n",
    "When does the loop stop?\n",
    "- When range throws out its last value!\n",
    "\n",
    "\"\"\"\n",
    "\n",
    "for i in range(5, 10):\n",
    "  print(i)"
   ]
  },
  {
   "cell_type": "code",
   "execution_count": 13,
   "metadata": {
    "colab": {
     "base_uri": "https://localhost:8080/"
    },
    "id": "R9-8Yu_XIKIN",
    "outputId": "39dc2866-af21-480e-f53f-4a16d5d577db"
   },
   "outputs": [
    {
     "name": "stdin",
     "output_type": "stream",
     "text": [
      "Enter URL www.google.comwww.google.com\n"
     ]
    },
    {
     "name": "stdout",
     "output_type": "stream",
     "text": [
      "Current count in iteration number  1  is  0\n"
     ]
    },
    {
     "name": "stdin",
     "output_type": "stream",
     "text": [
      "Enter URL www.google.com\n"
     ]
    },
    {
     "name": "stdout",
     "output_type": "stream",
     "text": [
      "Current count in iteration number  2  is  1\n"
     ]
    },
    {
     "name": "stdin",
     "output_type": "stream",
     "text": [
      "Enter URL www.google.comwww.google.com\n"
     ]
    },
    {
     "name": "stdout",
     "output_type": "stream",
     "text": [
      "Current count in iteration number  3  is  1\n"
     ]
    },
    {
     "name": "stdin",
     "output_type": "stream",
     "text": [
      "Enter URL www.google.comwww.google.com\n"
     ]
    },
    {
     "name": "stdout",
     "output_type": "stream",
     "text": [
      "Current count in iteration number  4  is  1\n"
     ]
    },
    {
     "name": "stdin",
     "output_type": "stream",
     "text": [
      "Enter URL www.google.com\n"
     ]
    },
    {
     "name": "stdout",
     "output_type": "stream",
     "text": [
      "Current count in iteration number  5  is  2\n",
      "Number of visits = 2\n"
     ]
    }
   ],
   "source": [
    "\"\"\"\n",
    "input() - Asks the user for an input\n",
    "\n",
    "range(start, end+1)\n",
    "range(num of times I want the loop to run)\n",
    "\n",
    "Q: Count the number of times, 'google.com' is visited\n",
    "\n",
    "Assumption: User tries 5 URLs\n",
    "\"\"\"\n",
    "\n",
    "count = 0\n",
    "\n",
    "for i in range(5):\n",
    "  # Below code executes for every iteration\n",
    "  url = input('Enter URL')\n",
    "  if(url == 'www.google.com'):\n",
    "    count = count + 1\n",
    "\n",
    "  # printed on every iteration, no matter what\n",
    "  print('Current count in iteration number ', i+1, ' is ', count)\n",
    "\n",
    "print('Number of visits =', count)\n"
   ]
  },
  {
   "cell_type": "code",
   "execution_count": 14,
   "metadata": {
    "colab": {
     "base_uri": "https://localhost:8080/"
    },
    "id": "532qzTsRI1Jg",
    "outputId": "aeeebf1f-df1a-462f-ae11-622179a45364"
   },
   "outputs": [
    {
     "name": "stdin",
     "output_type": "stream",
     "text": [
      "Enter URL www.google.com\n"
     ]
    },
    {
     "name": "stdout",
     "output_type": "stream",
     "text": [
      "Current count in iteration number  1  is  1\n"
     ]
    },
    {
     "name": "stdin",
     "output_type": "stream",
     "text": [
      "Enter URL www.google.comwww.google.com\n",
      "Enter URL www.google.comwww.google.comwww.google.com\n",
      "Enter URL www.google.com\n"
     ]
    },
    {
     "name": "stdout",
     "output_type": "stream",
     "text": [
      "Current count in iteration number  4  is  2\n"
     ]
    },
    {
     "name": "stdin",
     "output_type": "stream",
     "text": [
      "Enter URL www.google.comwww.google.comwww.google.comwww.google.com\n"
     ]
    },
    {
     "name": "stdout",
     "output_type": "stream",
     "text": [
      "Number of visits = 2\n"
     ]
    }
   ],
   "source": [
    "# Demostrating the effect of indentation under 'if' and 'for' statements\n",
    "\n",
    "count = 0\n",
    "\n",
    "for i in range(5):\n",
    "  # Below code executes for every iteration\n",
    "  url = input('Enter URL')\n",
    "  if(url == 'www.google.com'):\n",
    "    count = count + 1\n",
    "\n",
    "    # print will execute only if google is visited\n",
    "    print('Current count in iteration number ', i+1, ' is ', count)\n",
    "\n",
    "print('Number of visits =', count)\n"
   ]
  },
  {
   "cell_type": "code",
   "execution_count": 17,
   "metadata": {
    "id": "rOCdDwsiMrYW"
   },
   "outputs": [
    {
     "name": "stdin",
     "output_type": "stream",
     "text": [
      "Enter integer 1:  1\n",
      "Enter integer 2:  2\n",
      "Enter integer 3:  3\n",
      "Enter integer 4:  4\n",
      "Enter integer 5:  5\n"
     ]
    },
    {
     "name": "stdout",
     "output_type": "stream",
     "text": [
      "Resultant sum: 15\n"
     ]
    }
   ],
   "source": [
    "#3. The user will give you 5 integers as an input. Use the input() function to capture it and write python code print the resultant sum.\n",
    "res = 0\n",
    "for i in range(5):\n",
    "    number = int(input(f\"Enter integer {i + 1}: \"))\n",
    "    res += number\n",
    "print(\"Resultant sum:\", res)"
   ]
  },
  {
   "cell_type": "code",
   "execution_count": 16,
   "metadata": {
    "id": "SQyx-gxeSDN6"
   },
   "outputs": [
    {
     "ename": "ValueError",
     "evalue": "invalid literal for int() with base 10: 'helllo'",
     "output_type": "error",
     "traceback": [
      "\u001b[1;31m---------------------------------------------------------------------------\u001b[0m",
      "\u001b[1;31mValueError\u001b[0m                                Traceback (most recent call last)",
      "Cell \u001b[1;32mIn[16], line 2\u001b[0m\n\u001b[0;32m      1\u001b[0m a\u001b[38;5;241m=\u001b[39m\u001b[38;5;124m'\u001b[39m\u001b[38;5;124mhelllo\u001b[39m\u001b[38;5;124m'\u001b[39m\n\u001b[1;32m----> 2\u001b[0m \u001b[38;5;28;43mint\u001b[39;49m\u001b[43m(\u001b[49m\u001b[43ma\u001b[49m\u001b[43m)\u001b[49m\n",
      "\u001b[1;31mValueError\u001b[0m: invalid literal for int() with base 10: 'helllo'"
     ]
    }
   ],
   "source": [
    "a='helllo'\n",
    "int(a)"
   ]
  },
  {
   "cell_type": "code",
   "execution_count": null,
   "metadata": {},
   "outputs": [],
   "source": []
  }
 ],
 "metadata": {
  "colab": {
   "provenance": []
  },
  "kernelspec": {
   "display_name": "Python 3 (ipykernel)",
   "language": "python",
   "name": "python3"
  },
  "language_info": {
   "codemirror_mode": {
    "name": "ipython",
    "version": 3
   },
   "file_extension": ".py",
   "mimetype": "text/x-python",
   "name": "python",
   "nbconvert_exporter": "python",
   "pygments_lexer": "ipython3",
   "version": "3.11.5"
  }
 },
 "nbformat": 4,
 "nbformat_minor": 4
}
