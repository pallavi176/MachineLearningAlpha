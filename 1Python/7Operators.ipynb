{
 "cells": [
  {
   "cell_type": "code",
   "execution_count": 1,
   "metadata": {
    "colab": {
     "base_uri": "https://localhost:8080/"
    },
    "id": "Di52ZTjJnYCO",
    "outputId": "e8d8698a-74ae-4127-8b89-db4e516cb32f"
   },
   "outputs": [
    {
     "name": "stdout",
     "output_type": "stream",
     "text": [
      "2\n"
     ]
    }
   ],
   "source": [
    "\"\"\"\n",
    "Arithmetic Operators\n",
    "+, -, *, /, % (remainder)\n",
    "\"\"\"\n",
    "\n",
    "x = 5 % 3\n",
    "print(x)"
   ]
  },
  {
   "cell_type": "code",
   "execution_count": 2,
   "metadata": {
    "colab": {
     "base_uri": "https://localhost:8080/"
    },
    "id": "7K9OTjY3wrHV",
    "outputId": "43a2317d-0cb0-46b9-cbf6-a694c2446488"
   },
   "outputs": [
    {
     "name": "stdout",
     "output_type": "stream",
     "text": [
      "not eq\n"
     ]
    }
   ],
   "source": [
    "\"\"\"\n",
    "== : checking equality\n",
    ">, >=, <, <=, !=\n",
    "\"\"\"\n",
    "\n",
    "x = 'hello'\n",
    "if(x != 'hi'):\n",
    "  print('not eq')"
   ]
  },
  {
   "cell_type": "code",
   "execution_count": 3,
   "metadata": {
    "colab": {
     "base_uri": "https://localhost:8080/"
    },
    "id": "ohouaE4lxJXc",
    "outputId": "1ef3568c-5196-4492-e62e-d0f358d19ebc"
   },
   "outputs": [
    {
     "name": "stdout",
     "output_type": "stream",
     "text": [
      "1.3333333333333333\n"
     ]
    }
   ],
   "source": [
    "\"\"\"\n",
    "Short-hand representation\n",
    "Tougher: x = x + 5\n",
    "Easier: x += 5\n",
    "\"\"\"\n",
    "\n",
    "x = 4\n",
    "\n",
    "x /= 3 # x = x*3\n",
    "print(x)"
   ]
  },
  {
   "cell_type": "code",
   "execution_count": 4,
   "metadata": {
    "colab": {
     "base_uri": "https://localhost:8080/"
    },
    "id": "vXeFQlU7xmin",
    "outputId": "dbb299bd-9c64-4620-c766-8708e0621a79"
   },
   "outputs": [
    {
     "name": "stdout",
     "output_type": "stream",
     "text": [
      "Yes!\n"
     ]
    }
   ],
   "source": [
    "\"\"\"\n",
    "Logical AND\n",
    "(comparison1) and (comparison2) : if BOTH are TRUE, then we move ahead\n",
    "\"\"\"\n",
    "\n",
    "x = 7\n",
    "if(x > 5 and x < 10):\n",
    "  print('Yes!')"
   ]
  },
  {
   "cell_type": "code",
   "execution_count": 5,
   "metadata": {
    "colab": {
     "base_uri": "https://localhost:8080/"
    },
    "id": "9YC_SZiGyKfI",
    "outputId": "f2a8fd20-024c-4b8d-a226-33f04f9bf4e9"
   },
   "outputs": [
    {
     "name": "stdout",
     "output_type": "stream",
     "text": [
      "No!\n"
     ]
    }
   ],
   "source": [
    "\"\"\"\n",
    "Logical OR\n",
    "(comparison1) or (comparison2) : if ONE OF THEM is TRUE, then we move ahead\n",
    "\"\"\"\n",
    "\n",
    "x = 3\n",
    "if(x > 5 or x > 10):\n",
    "  print('Yes!')\n",
    "else:\n",
    "  print('No!')"
   ]
  },
  {
   "cell_type": "code",
   "execution_count": 6,
   "metadata": {
    "colab": {
     "base_uri": "https://localhost:8080/"
    },
    "id": "cPpr3Ui6yZgy",
    "outputId": "809d7ffd-3dd1-4f7c-cb75-fa31e0988b95"
   },
   "outputs": [
    {
     "name": "stdout",
     "output_type": "stream",
     "text": [
      "Yes\n"
     ]
    }
   ],
   "source": [
    "\"\"\"\n",
    "Logical NOT\n",
    "not (comparison): Negates the internal comparison\n",
    "\"\"\"\n",
    "\n",
    "x = 5\n",
    "if(not(x == 3)): # if with execute only is resultant is TRUE\n",
    "  print('Yes')\n",
    "else:\n",
    "  print('No')"
   ]
  },
  {
   "cell_type": "code",
   "execution_count": 7,
   "metadata": {
    "colab": {
     "base_uri": "https://localhost:8080/"
    },
    "id": "PhqL-Nf_zGwm",
    "outputId": "797e4383-7126-497b-a24d-e125dd527f5c"
   },
   "outputs": [
    {
     "name": "stdout",
     "output_type": "stream",
     "text": [
      "True\n",
      "True\n"
     ]
    }
   ],
   "source": [
    "\"\"\"\n",
    "A in B: is A present in B\n",
    "\"\"\"\n",
    "\n",
    "if( 'a' in 'alibaba'):\n",
    "  print('True')\n",
    "\n",
    "if(3 in [3, 4, 6]):\n",
    "  print('True')\n",
    "else:\n",
    "  print('False')"
   ]
  },
  {
   "cell_type": "code",
   "execution_count": null,
   "metadata": {
    "id": "belS9P0tzcoV"
   },
   "outputs": [],
   "source": []
  },
  {
   "cell_type": "code",
   "execution_count": null,
   "metadata": {},
   "outputs": [],
   "source": []
  }
 ],
 "metadata": {
  "colab": {
   "provenance": []
  },
  "kernelspec": {
   "display_name": "Python 3 (ipykernel)",
   "language": "python",
   "name": "python3"
  },
  "language_info": {
   "codemirror_mode": {
    "name": "ipython",
    "version": 3
   },
   "file_extension": ".py",
   "mimetype": "text/x-python",
   "name": "python",
   "nbconvert_exporter": "python",
   "pygments_lexer": "ipython3",
   "version": "3.11.5"
  }
 },
 "nbformat": 4,
 "nbformat_minor": 4
}
