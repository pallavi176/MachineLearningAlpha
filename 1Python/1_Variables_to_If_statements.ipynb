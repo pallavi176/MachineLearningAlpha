{
 "cells": [
  {
   "cell_type": "markdown",
   "metadata": {},
   "source": [
    "## Variables"
   ]
  },
  {
   "cell_type": "code",
   "execution_count": 1,
   "metadata": {
    "colab": {
     "base_uri": "https://localhost:8080/"
    },
    "id": "ht4kwrV-Ha_p",
    "outputId": "1d6e8f01-9985-4819-d2aa-5bd9f2257032"
   },
   "outputs": [
    {
     "data": {
      "text/plain": [
       "6"
      ]
     },
     "execution_count": 1,
     "metadata": {},
     "output_type": "execute_result"
    }
   ],
   "source": [
    "# Variables : Jar -> Storage, Re-usability\n",
    "\n",
    "# Single Line Comment\n",
    "\"\"\"\n",
    "Multi-line comment\n",
    "\"\"\"\n",
    "\n",
    "\"\"\"\n",
    "Assignment Statement\n",
    "LEFT: Variable\n",
    "RIGHT: Computation/Input\n",
    "\"\"\"\n",
    "\n",
    "x = 2 * 3\n",
    "x"
   ]
  },
  {
   "cell_type": "markdown",
   "metadata": {},
   "source": [
    "## Building a calculator"
   ]
  },
  {
   "cell_type": "code",
   "execution_count": 2,
   "metadata": {
    "id": "fsUwCAbfIof7"
   },
   "outputs": [
    {
     "data": {
      "text/plain": [
       "'\\nBuilding a calculator\\n\\nOperations: Add, Multiply, Subtraction\\nInputs: 2\\n'"
      ]
     },
     "execution_count": 2,
     "metadata": {},
     "output_type": "execute_result"
    }
   ],
   "source": [
    "\"\"\"\n",
    "Building a calculator\n",
    "\n",
    "Operations: Add, Multiply, Subtraction\n",
    "Inputs: 2\n",
    "\"\"\""
   ]
  },
  {
   "cell_type": "code",
   "execution_count": 3,
   "metadata": {
    "colab": {
     "base_uri": "https://localhost:8080/"
    },
    "id": "z6eMYCx1JuEa",
    "outputId": "6df01a2e-1f44-4132-a9a4-44e57d87d8c3"
   },
   "outputs": [
    {
     "data": {
      "text/plain": [
       "35"
      ]
     },
     "execution_count": 3,
     "metadata": {},
     "output_type": "execute_result"
    }
   ],
   "source": [
    "input1 = 7\n",
    "input2 = 5\n",
    "\n",
    "output = input1 * input2\n",
    "output"
   ]
  },
  {
   "cell_type": "markdown",
   "metadata": {},
   "source": [
    "## Conditional Statement"
   ]
  },
  {
   "cell_type": "code",
   "execution_count": 4,
   "metadata": {
    "id": "hrfAsewtKDg-"
   },
   "outputs": [
    {
     "data": {
      "text/plain": [
       "'\\nif-elif-else statement: CHECKING OPTIONS & EXECUTE RESPECTIVE INSTRUCTIONS!\\n- What is there in the jar??\\n- Is it coconut oil?\\n- Is it gingelly oil?\\n\\nif(condition is true):\\n  do something!\\nelif(condition2 is true):\\n  do something in between!\\nelif(condition3 is true):\\n  do something more!\\nelse:\\n  do something else!\\n\\nBRACKET: check true of false!\\n'"
      ]
     },
     "execution_count": 4,
     "metadata": {},
     "output_type": "execute_result"
    }
   ],
   "source": [
    "\"\"\"\n",
    "if-elif-else statement: CHECKING OPTIONS & EXECUTE RESPECTIVE INSTRUCTIONS!\n",
    "- What is there in the jar??\n",
    "- Is it coconut oil?\n",
    "- Is it gingelly oil?\n",
    "\n",
    "if(condition is true):\n",
    "  do something!\n",
    "elif(condition2 is true):\n",
    "  do something in between!\n",
    "elif(condition3 is true):\n",
    "  do something more!\n",
    "else:\n",
    "  do something else!\n",
    "\n",
    "BRACKET: check true of false!\n",
    "\"\"\"\n"
   ]
  },
  {
   "cell_type": "code",
   "execution_count": 5,
   "metadata": {
    "colab": {
     "base_uri": "https://localhost:8080/"
    },
    "id": "6OiJbCjlK4zU",
    "outputId": "8ec25c62-d93f-44f3-a29c-f0a0068b1e22"
   },
   "outputs": [
    {
     "name": "stdout",
     "output_type": "stream",
     "text": [
      "2\n"
     ]
    }
   ],
   "source": [
    "\"\"\"\n",
    "Variables: What are the different things which can be stored?\n",
    "- Jar: Oil, Pulses, Spices\n",
    "\n",
    "Python:\n",
    "- Int (4, 5, 7, -3)\n",
    "- Float (4.5, -2.3, 6.7)\n",
    "- String - Sequence of characters enclosed in ' ' or \" \" : Text!!\n",
    "Examples: 'sub', '&42349)/***'\n",
    "\"\"\"\n",
    "\n",
    "operator = \"sub\" #'sub' or 'mul' or 'add'\n",
    "\n",
    "if(operator == \"add\"):\n",
    "  output = input1 + input2\n",
    "  print('YOLO!')\n",
    "  output2 = output / 3\n",
    "elif(operator == \"sub\"):\n",
    "  output = input1 - input2\n",
    "elif(operator == \"mul\"):\n",
    "  output = input1 * input2\n",
    "else:\n",
    "  output = -999999999\n",
    "  print('Invalid output')\n",
    "\n",
    "print(output)"
   ]
  },
  {
   "cell_type": "code",
   "execution_count": 6,
   "metadata": {
    "id": "RMB2j_8mMGH7"
   },
   "outputs": [
    {
     "data": {
      "text/plain": [
       "'\\nCHECKING OPERATION: involves ==\\nif(LHS == RHS) -> check if LHS is equal to RHS\\n\\nCLEAR DIFFERENCE B/W ASSIGNMENT (=, storage) AND CHECKING (==)!\\n'"
      ]
     },
     "execution_count": 6,
     "metadata": {},
     "output_type": "execute_result"
    }
   ],
   "source": [
    "\"\"\"\n",
    "CHECKING OPERATION: involves ==\n",
    "if(LHS == RHS) -> check if LHS is equal to RHS\n",
    "\n",
    "CLEAR DIFFERENCE B/W ASSIGNMENT (=, storage) AND CHECKING (==)!\n",
    "\"\"\""
   ]
  },
  {
   "cell_type": "code",
   "execution_count": 7,
   "metadata": {
    "id": "tNs4oVFdOTq3"
   },
   "outputs": [
    {
     "name": "stdout",
     "output_type": "stream",
     "text": [
      "sub!\n"
     ]
    }
   ],
   "source": [
    "\"\"\"\n",
    "Syntax - Indentation\n",
    "Tabs/Spaces\n",
    "\n",
    "Gets initiated when ':'\n",
    "Next set of lines are indented => 2/4 or 1 tab inside\n",
    "You have to exit consciously - the next set of lines!\n",
    "\"\"\"\n",
    "\n",
    "\n",
    "if(operator == 'add'):\n",
    "  output = input1 + input2\n",
    "elif(operator == 'sub'):\n",
    "  output = input1 - input2\n",
    "  print('sub!')\n",
    "else:\n",
    "  print('Done!')"
   ]
  },
  {
   "cell_type": "code",
   "execution_count": 8,
   "metadata": {
    "colab": {
     "base_uri": "https://localhost:8080/"
    },
    "id": "Eubu9PWsP9nz",
    "outputId": "5e2a3b35-af7e-417d-92e6-db374c80779f"
   },
   "outputs": [
    {
     "name": "stdout",
     "output_type": "stream",
     "text": [
      "7\n",
      "sub\n",
      "DOne!\n"
     ]
    }
   ],
   "source": [
    "\"\"\"\n",
    "Function: Built-in functions -> Print\n",
    "\n",
    "function_name(variable)\n",
    "function_name(string)\n",
    "Print: Display whatever input is given!\n",
    "\"\"\"\n",
    "\n",
    "print(input1)\n",
    "print(operator)\n",
    "print(\"DOne!\")"
   ]
  },
  {
   "cell_type": "code",
   "execution_count": null,
   "metadata": {
    "id": "D_XPNZYNQUmm"
   },
   "outputs": [],
   "source": []
  }
 ],
 "metadata": {
  "colab": {
   "provenance": []
  },
  "kernelspec": {
   "display_name": "Python 3 (ipykernel)",
   "language": "python",
   "name": "python3"
  },
  "language_info": {
   "codemirror_mode": {
    "name": "ipython",
    "version": 3
   },
   "file_extension": ".py",
   "mimetype": "text/x-python",
   "name": "python",
   "nbconvert_exporter": "python",
   "pygments_lexer": "ipython3",
   "version": "3.11.5"
  }
 },
 "nbformat": 4,
 "nbformat_minor": 4
}
