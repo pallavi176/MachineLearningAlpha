{
 "cells": [
  {
   "cell_type": "markdown",
   "metadata": {
    "id": "_8hY54mFuwhF"
   },
   "source": [
    "### Dictionary/Hash-Map"
   ]
  },
  {
   "cell_type": "markdown",
   "metadata": {
    "id": "fvuW080gvoSI"
   },
   "source": [
    "https://www.w3schools.com/python/python_dictionaries.asp"
   ]
  },
  {
   "cell_type": "code",
   "execution_count": 1,
   "metadata": {
    "id": "Wvfo4P0-caKT"
   },
   "outputs": [
    {
     "data": {
      "text/plain": [
       "'\\nDictionary\\nKey -> Value\\nPhrase -> Page-NUmber\\n'"
      ]
     },
     "execution_count": 1,
     "metadata": {},
     "output_type": "execute_result"
    }
   ],
   "source": [
    "\"\"\"\n",
    "Dictionary\n",
    "Key -> Value\n",
    "Phrase -> Page-NUmber\n",
    "\"\"\""
   ]
  },
  {
   "cell_type": "code",
   "execution_count": 5,
   "metadata": {
    "colab": {
     "base_uri": "https://localhost:8080/"
    },
    "id": "iEjTj52Po5Bk",
    "outputId": "a07a9218-f565-4a24-b6c3-31d508c7bb6a"
   },
   "outputs": [
    {
     "name": "stdout",
     "output_type": "stream",
     "text": [
      "7\n"
     ]
    }
   ],
   "source": [
    "\"\"\"\n",
    "A. List\n",
    "Index -> List Element\n",
    "(int) -> (any data-type)\n",
    "0 -> 2\n",
    "1 -> 7\n",
    "2 -> 9\n",
    "3 -> 12\n",
    "- Only index with numbers\n",
    "\n",
    "B. Dict: Generalised form of a List\n",
    "Index (Key): typically str\n",
    "(string) -> (any data-type)\n",
    "\"\"\"\n",
    "\n",
    "#List\n",
    "temp = [2, 7, 9, 12]\n",
    "print(temp[1])"
   ]
  },
  {
   "cell_type": "code",
   "execution_count": 6,
   "metadata": {
    "id": "cCWtGs9YpEl-"
   },
   "outputs": [],
   "source": [
    "\"\"\"\n",
    "A. Definition\n",
    "<dict_name> = {\n",
    "  \"key1\" : value1,\n",
    "  \"key2\" : value2\n",
    "}\n",
    "\n",
    "\"\"\"\n",
    "\n",
    "d = {\n",
    "    \"AlphaML\" : \"Located on page 2\",\n",
    "    \"How do you do?\" : \"Located on page 23\"\n",
    "}\n",
    "\n"
   ]
  },
  {
   "cell_type": "code",
   "execution_count": 7,
   "metadata": {
    "colab": {
     "base_uri": "https://localhost:8080/"
    },
    "id": "sTTEfJNLqcdY",
    "outputId": "3b608305-29dc-4a6b-844e-3c64b3957ce8"
   },
   "outputs": [
    {
     "name": "stdout",
     "output_type": "stream",
     "text": [
      "Located on page 2\n"
     ]
    }
   ],
   "source": [
    "print(d[\"AlphaML\"])"
   ]
  },
  {
   "cell_type": "code",
   "execution_count": 9,
   "metadata": {},
   "outputs": [
    {
     "data": {
      "text/plain": [
       "{'1.2': 'Located on page 2', 2.4: 'Located on page 23'}"
      ]
     },
     "execution_count": 9,
     "metadata": {},
     "output_type": "execute_result"
    }
   ],
   "source": [
    "d = {\n",
    "    \"1.2\" : \"Located on page 2\",\n",
    "    2.4 : \"Located on page 23\"\n",
    "}\n",
    "d"
   ]
  },
  {
   "cell_type": "code",
   "execution_count": 10,
   "metadata": {
    "colab": {
     "base_uri": "https://localhost:8080/"
    },
    "id": "SfLF82NlqkVW",
    "outputId": "d25cac92-4a73-4689-9eb3-919578acbf8c"
   },
   "outputs": [
    {
     "name": "stdout",
     "output_type": "stream",
     "text": [
      "[22, 89]\n"
     ]
    }
   ],
   "source": [
    "d = {\n",
    "    \"AlphaML\" : [4, 7, 12],\n",
    "    \"How do you do?\" : [22, 89]\n",
    "}\n",
    "\n",
    "print(d[\"How do you do?\"])"
   ]
  },
  {
   "cell_type": "code",
   "execution_count": 11,
   "metadata": {
    "colab": {
     "base_uri": "https://localhost:8080/"
    },
    "id": "VBrxEie_qv4r",
    "outputId": "34c58d7f-3565-4949-be42-fe96ac87f001"
   },
   "outputs": [
    {
     "name": "stdout",
     "output_type": "stream",
     "text": [
      "dict_keys(['AlphaML', 'How do you do?'])\n",
      "<class 'dict_keys'>\n"
     ]
    }
   ],
   "source": [
    "\"\"\"\n",
    "How do you find the keys for the dict?\n",
    "\"\"\"\n",
    "\n",
    "print(d.keys())\n",
    "print(type(d.keys()))"
   ]
  },
  {
   "cell_type": "code",
   "execution_count": 12,
   "metadata": {
    "colab": {
     "base_uri": "https://localhost:8080/"
    },
    "id": "9Rre6ItUrAHC",
    "outputId": "75619203-e25b-4db4-ce13-fb23a4860d90"
   },
   "outputs": [
    {
     "name": "stdout",
     "output_type": "stream",
     "text": [
      "List\n",
      "0 2\n",
      "1 7\n",
      "2 9\n",
      "3 12\n",
      "\n",
      "Dict\n",
      "AlphaML [4, 7, 12]\n",
      "How do you do? [22, 89]\n"
     ]
    }
   ],
   "source": [
    "\"\"\"\n",
    "Iterate through a dict: Through the keys\n",
    "\n",
    "Iterating through the indices!\n",
    "For a dict, the index is the key!\n",
    "\"\"\"\n",
    "\n",
    "#List\n",
    "print('List')\n",
    "for i in range(len(temp)):\n",
    "  # i = 0, 1, 2, 3\n",
    "  print(i, temp[i])\n",
    "\n",
    "print('')\n",
    "print('Dict')\n",
    "for i in d.keys():\n",
    "  # i: key1, key2, ...\n",
    "  key = i\n",
    "  value = d[key]\n",
    "  print(key, value)"
   ]
  },
  {
   "cell_type": "code",
   "execution_count": 13,
   "metadata": {
    "id": "qu53lZzPrQHD"
   },
   "outputs": [
    {
     "data": {
      "text/plain": [
       "'\\nWhen would you prefer a dict over a list?\\n1. Indices are strings\\n2. When the list is sparse.\\nEg: [90, 43, 0, 0, 21, 0, 0, 72]\\n\\nd = {\\n  \"0\" : 90,\\n  \"1\" : 43,\\n  \"4\" : 21,\\n  ..\\n  ..\\n}\\n\\n'"
      ]
     },
     "execution_count": 13,
     "metadata": {},
     "output_type": "execute_result"
    }
   ],
   "source": [
    "\"\"\"\n",
    "When would you prefer a dict over a list?\n",
    "1. Indices are strings\n",
    "2. When the list is sparse.\n",
    "Eg: [90, 43, 0, 0, 21, 0, 0, 72]\n",
    "\n",
    "d = {\n",
    "  \"0\" : 90,\n",
    "  \"1\" : 43,\n",
    "  \"4\" : 21,\n",
    "  ..\n",
    "  ..\n",
    "}\n",
    "\n",
    "\"\"\""
   ]
  },
  {
   "cell_type": "code",
   "execution_count": 14,
   "metadata": {
    "colab": {
     "base_uri": "https://localhost:8080/"
    },
    "id": "HwWm5CfVtdDo",
    "outputId": "25f2efa8-10d2-4d25-f7b9-2b975e39a3cb"
   },
   "outputs": [
    {
     "name": "stdout",
     "output_type": "stream",
     "text": [
      "{'AlphaML': [4, 7, 12], 'How do you do?': [22, 89]}\n",
      "{'How do you do?': [22, 89]}\n"
     ]
    }
   ],
   "source": [
    "\"\"\"\n",
    "Method on a DS\n",
    "<ds_name>.<method_name>(<arguments>)\n",
    "\"\"\"\n",
    "\n",
    "print(d)\n",
    "\n",
    "# deleted a element\n",
    "d.pop(\"AlphaML\")\n",
    "print(d)"
   ]
  },
  {
   "cell_type": "code",
   "execution_count": 13,
   "metadata": {
    "colab": {
     "base_uri": "https://localhost:8080/"
    },
    "id": "aNf4jsjetpyh",
    "outputId": "9104fde1-2912-4f7f-8be6-512ef356fd18"
   },
   "outputs": [
    {
     "name": "stdout",
     "output_type": "stream",
     "text": [
      "{'How do you do?': [22, 89], 'yo': [2, 3]}\n"
     ]
    }
   ],
   "source": [
    "d[\"yo\"] = [2, 3]\n",
    "print(d)"
   ]
  },
  {
   "cell_type": "code",
   "execution_count": 15,
   "metadata": {
    "colab": {
     "base_uri": "https://localhost:8080/"
    },
    "id": "0NB7jcWgt5R8",
    "outputId": "bb8fc2a5-a86b-49b3-f048-012f4640eb4b"
   },
   "outputs": [
    {
     "name": "stdout",
     "output_type": "stream",
     "text": [
      "{'How do you do?': [22, 89], 'yo': [4, 5]}\n"
     ]
    }
   ],
   "source": [
    "d[\"yo\"] = [4, 5]\n",
    "print(d)"
   ]
  },
  {
   "cell_type": "code",
   "execution_count": 15,
   "metadata": {
    "id": "xhCW__v5uBVR"
   },
   "outputs": [
    {
     "data": {
      "text/plain": [
       "{'How do you do?': [22, 89], 'year': 2018}"
      ]
     },
     "execution_count": 15,
     "metadata": {},
     "output_type": "execute_result"
    }
   ],
   "source": [
    "d[\"year\"] = 2018\n",
    "d"
   ]
  },
  {
   "cell_type": "code",
   "execution_count": 16,
   "metadata": {},
   "outputs": [
    {
     "data": {
      "text/plain": [
       "{'How do you do?': [22, 89], 'year': 2020}"
      ]
     },
     "execution_count": 16,
     "metadata": {},
     "output_type": "execute_result"
    }
   ],
   "source": [
    "d.update({\"year\": 2020})\n",
    "d"
   ]
  },
  {
   "cell_type": "markdown",
   "metadata": {
    "id": "onauweijufYf"
   },
   "source": [
    "### Sets"
   ]
  },
  {
   "cell_type": "code",
   "execution_count": 17,
   "metadata": {
    "colab": {
     "base_uri": "https://localhost:8080/"
    },
    "id": "rnrElNjsugHu",
    "outputId": "d71f1d2a-4602-4ecd-ed7d-3fc8ffd7dbc9"
   },
   "outputs": [
    {
     "name": "stdout",
     "output_type": "stream",
     "text": [
      "{'apple', 'banana', 'cherry'}\n"
     ]
    }
   ],
   "source": [
    "thisset = {\"apple\", \"banana\", \"cherry\"}\n",
    "print(thisset)"
   ]
  },
  {
   "cell_type": "code",
   "execution_count": null,
   "metadata": {
    "id": "uD02-UlGugpt"
   },
   "outputs": [],
   "source": []
  },
  {
   "cell_type": "markdown",
   "metadata": {
    "id": "4Qy9Tx5Iuhqx"
   },
   "source": [
    "### Tuples"
   ]
  },
  {
   "cell_type": "code",
   "execution_count": 18,
   "metadata": {
    "colab": {
     "base_uri": "https://localhost:8080/"
    },
    "id": "xL_IJEzvuiqU",
    "outputId": "a0c31a51-d1f0-4ccc-d400-3443f9018b4f"
   },
   "outputs": [
    {
     "name": "stdout",
     "output_type": "stream",
     "text": [
      "('apple', 'banana', 'cherry')\n"
     ]
    }
   ],
   "source": [
    "thistuple = (\"apple\", \"banana\", \"cherry\")\n",
    "print(thistuple)"
   ]
  },
  {
   "cell_type": "code",
   "execution_count": null,
   "metadata": {
    "id": "hZyq-EufunBy"
   },
   "outputs": [],
   "source": []
  }
 ],
 "metadata": {
  "colab": {
   "provenance": []
  },
  "kernelspec": {
   "display_name": "Python 3 (ipykernel)",
   "language": "python",
   "name": "python3"
  },
  "language_info": {
   "codemirror_mode": {
    "name": "ipython",
    "version": 3
   },
   "file_extension": ".py",
   "mimetype": "text/x-python",
   "name": "python",
   "nbconvert_exporter": "python",
   "pygments_lexer": "ipython3",
   "version": "3.11.5"
  }
 },
 "nbformat": 4,
 "nbformat_minor": 4
}
