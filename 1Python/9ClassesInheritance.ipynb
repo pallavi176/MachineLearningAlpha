{
 "cells": [
  {
   "cell_type": "code",
   "execution_count": 1,
   "metadata": {
    "id": "F_j56CXOXCq9"
   },
   "outputs": [
    {
     "data": {
      "text/plain": [
       "'\\nPython: OOP\\nClasses:\\n- Encapsulation/Combination of Function and variables\\n'"
      ]
     },
     "execution_count": 1,
     "metadata": {},
     "output_type": "execute_result"
    }
   ],
   "source": [
    "\"\"\"\n",
    "Python: OOP\n",
    "Classes:\n",
    "- Encapsulation/Combination of Function and variables\n",
    "\"\"\""
   ]
  },
  {
   "cell_type": "code",
   "execution_count": 2,
   "metadata": {
    "id": "mcKHF2mNYEgg"
   },
   "outputs": [
    {
     "data": {
      "text/plain": [
       "'\\nBuilding methods to analyse students of a cohort\\n\\nscores = [1, 4, 7, 10, 3, 3, 6, 9, 9, 4]\\n\\nProperties:\\nindividual_score, name, age, yoe\\n\\nMethods:\\nconvert_to_grade(individual_score)\\ndetermine_scholarship(individual_score)\\nanalyse_yoe_to_performance(yoe, individual_score)\\n'"
      ]
     },
     "execution_count": 2,
     "metadata": {},
     "output_type": "execute_result"
    }
   ],
   "source": [
    "\"\"\"\n",
    "Building methods to analyse students of a cohort\n",
    "\n",
    "scores = [1, 4, 7, 10, 3, 3, 6, 9, 9, 4]\n",
    "\n",
    "Properties:\n",
    "individual_score, name, age, yoe\n",
    "\n",
    "Methods:\n",
    "convert_to_grade(individual_score)\n",
    "determine_scholarship(individual_score)\n",
    "analyse_yoe_to_performance(yoe, individual_score)\n",
    "\"\"\""
   ]
  },
  {
   "cell_type": "code",
   "execution_count": 3,
   "metadata": {
    "id": "c13CBMXJZjAr"
   },
   "outputs": [],
   "source": [
    "# Traditional Way\n",
    "\n",
    "s1_score = 2\n",
    "s1_name = 'Ananya'\n",
    "s1_age = 28\n",
    "s1_yoe = 5\n",
    "\n",
    "s2_score = 9\n",
    "s2_name = 'Rohit'\n",
    "s2_age = 34\n",
    "s2_yoe = 11\n",
    "\n",
    "\n",
    "def convert_to_grade(individual_score):\n",
    "  pass\n",
    "\n",
    "def determine_scholarship(individual_score):\n",
    "  pass\n",
    "\n",
    "def analyse_yoe_to_performance(yoe, individual_score):\n",
    "  pass"
   ]
  },
  {
   "cell_type": "code",
   "execution_count": 4,
   "metadata": {
    "id": "VMNTVYn8aYck"
   },
   "outputs": [],
   "source": [
    "\"\"\"\n",
    "Syntax:\n",
    "\n",
    "# CLASS DEFINITION\n",
    "class <class_name>():\n",
    "  def __init__(self, <function_arg>):\n",
    "    self.<variable> = <function_arg>\n",
    "\n",
    "  def method1(self, <arg>):\n",
    "    pass\n",
    "\n",
    "# Class Object Instantiation\n",
    "<obect_name> = <class_name>(<function_arg>)\n",
    "\"\"\"\n",
    "\n",
    "class Student():\n",
    "  def __init__(self, name, age):\n",
    "    self.name = name\n",
    "    self.age = age\n",
    "\n",
    "\n",
    "s1 = Student(\"Ananya\", 28)\n",
    "s2 = Student(\"Rohit\", 34)\n"
   ]
  },
  {
   "cell_type": "code",
   "execution_count": 5,
   "metadata": {
    "colab": {
     "base_uri": "https://localhost:8080/"
    },
    "id": "7zG-kE-0b3ZG",
    "outputId": "4a119435-735c-4f08-f851-6e02ede25391"
   },
   "outputs": [
    {
     "name": "stdout",
     "output_type": "stream",
     "text": [
      "Ananya 28\n"
     ]
    }
   ],
   "source": [
    "print(s1.name, s1.age)"
   ]
  },
  {
   "cell_type": "code",
   "execution_count": 6,
   "metadata": {
    "colab": {
     "base_uri": "https://localhost:8080/"
    },
    "id": "iCEhyjZrcPTE",
    "outputId": "a753bcf3-f96c-477d-cac9-56eb2a7fc0d0"
   },
   "outputs": [
    {
     "name": "stdout",
     "output_type": "stream",
     "text": [
      "Rohit 34\n"
     ]
    }
   ],
   "source": [
    "print(s2.name, s2.age)"
   ]
  },
  {
   "cell_type": "code",
   "execution_count": 7,
   "metadata": {
    "id": "jzijKR3ecciw"
   },
   "outputs": [],
   "source": [
    "\"\"\"\n",
    "Making the class expansive!\n",
    "\n",
    "** 'self' is used to reference to attributes of the same object\n",
    "self.<variable_name>\n",
    "self.<function_name>()\n",
    "\n",
    "self -> used to reference things which can be called as object.<thing>\n",
    "\n",
    "\"\"\"\n",
    "\n",
    "class Student():\n",
    "  def __init__(self, name, age, score):\n",
    "    self.name = name\n",
    "    self.age = age\n",
    "    self.score = score\n",
    "\n",
    "  def convert_to_grade(self):\n",
    "    if(self.score > 7):\n",
    "      self.grade = 'P'\n",
    "    else:\n",
    "      self.grade = 'F'\n",
    "\n",
    "  def update_score(self, new_score):\n",
    "    self.score = new_score\n",
    "    self.convert_to_grade()\n",
    "    self.determine_scholarship()\n",
    "    print(self.score, self.grade, self.scholarship)\n",
    "\n",
    "  def determine_scholarship(self):\n",
    "    if(self.score > 8):\n",
    "      self.scholarship = True # bool: True or False\n",
    "    else:\n",
    "      self.scholarship = False"
   ]
  },
  {
   "cell_type": "code",
   "execution_count": 8,
   "metadata": {
    "colab": {
     "base_uri": "https://localhost:8080/"
    },
    "id": "1cjsn5sCdXk5",
    "outputId": "ec4b4f7b-c5f9-4c6c-c7c9-7bf36ad394cc"
   },
   "outputs": [
    {
     "name": "stdout",
     "output_type": "stream",
     "text": [
      "Ananya 28 8\n"
     ]
    }
   ],
   "source": [
    "s1 = Student(\"Ananya\", 28, 8)\n",
    "print(s1.name, s1.age, s1.score)"
   ]
  },
  {
   "cell_type": "code",
   "execution_count": 9,
   "metadata": {
    "colab": {
     "base_uri": "https://localhost:8080/"
    },
    "id": "ZT88FraJdX6T",
    "outputId": "96b8218a-d469-4e2f-d55b-ca7eedbdc283"
   },
   "outputs": [
    {
     "name": "stdout",
     "output_type": "stream",
     "text": [
      "P\n"
     ]
    }
   ],
   "source": [
    "s1.convert_to_grade()\n",
    "print(s1.grade)"
   ]
  },
  {
   "cell_type": "code",
   "execution_count": 10,
   "metadata": {
    "colab": {
     "base_uri": "https://localhost:8080/"
    },
    "id": "htHWo4EzdixJ",
    "outputId": "649f5bc7-ca79-4cac-d410-40a1af7f1ba6"
   },
   "outputs": [
    {
     "name": "stdout",
     "output_type": "stream",
     "text": [
      "4 F False\n"
     ]
    }
   ],
   "source": [
    "# update an internal attribute\n",
    "s1.update_score(4)"
   ]
  },
  {
   "cell_type": "code",
   "execution_count": 11,
   "metadata": {
    "colab": {
     "base_uri": "https://localhost:8080/"
    },
    "id": "8dT5zCRcd_FR",
    "outputId": "d63142f1-a48f-4d13-d840-1cb6cb27e96e"
   },
   "outputs": [
    {
     "data": {
      "text/plain": [
       "False"
      ]
     },
     "execution_count": 11,
     "metadata": {},
     "output_type": "execute_result"
    }
   ],
   "source": [
    "s1.scholarship"
   ]
  },
  {
   "cell_type": "code",
   "execution_count": null,
   "metadata": {
    "id": "zisPrKIAfyfr"
   },
   "outputs": [],
   "source": []
  },
  {
   "cell_type": "markdown",
   "metadata": {
    "id": "nlt-vT1Wf_8z"
   },
   "source": [
    "### Inheritance"
   ]
  },
  {
   "cell_type": "code",
   "execution_count": 12,
   "metadata": {
    "id": "JFiPjTgmgBeL"
   },
   "outputs": [],
   "source": [
    "\"\"\"\n",
    "class <child_class_name>(<parent_class_name>):\n",
    "  def __init__(self, name):\n",
    "    pass\n",
    "  def method1(self):\n",
    "    pass\n",
    "\"\"\"\n",
    "\n",
    "#Style 1\n",
    "class Alumni(Student):\n",
    "  def __init__(self, name, age, score, year):\n",
    "    super().__init__(name, age, score)\n",
    "    self.graduation_year = year\n",
    "\n",
    "#Style 2\n",
    "class Alumni(Student):\n",
    "  def __init__(self, name, age, score, year):\n",
    "    Student.__init__(self, name, age, score)\n",
    "    self.graduation_year = year"
   ]
  },
  {
   "cell_type": "code",
   "execution_count": 13,
   "metadata": {
    "id": "gytvRlB4hNNF"
   },
   "outputs": [],
   "source": [
    "A = Alumni(\"Rohit\", 35, 8, 2002)"
   ]
  },
  {
   "cell_type": "code",
   "execution_count": 14,
   "metadata": {
    "colab": {
     "base_uri": "https://localhost:8080/",
     "height": 36
    },
    "id": "c0OzGFAkhSop",
    "outputId": "d3f0084e-f699-41a2-a2ce-748acc0d0b70"
   },
   "outputs": [
    {
     "data": {
      "text/plain": [
       "'Rohit'"
      ]
     },
     "execution_count": 14,
     "metadata": {},
     "output_type": "execute_result"
    }
   ],
   "source": [
    "A.name"
   ]
  },
  {
   "cell_type": "code",
   "execution_count": 15,
   "metadata": {
    "id": "YwEd9-PlhX64"
   },
   "outputs": [],
   "source": [
    "A.convert_to_grade()"
   ]
  },
  {
   "cell_type": "code",
   "execution_count": 16,
   "metadata": {
    "colab": {
     "base_uri": "https://localhost:8080/",
     "height": 36
    },
    "id": "zXqncAmphbP9",
    "outputId": "20ac1a63-2ea9-4ea4-ba6a-6d1f770d9f17"
   },
   "outputs": [
    {
     "data": {
      "text/plain": [
       "'P'"
      ]
     },
     "execution_count": 16,
     "metadata": {},
     "output_type": "execute_result"
    }
   ],
   "source": [
    "A.grade"
   ]
  },
  {
   "cell_type": "code",
   "execution_count": null,
   "metadata": {
    "id": "rZRUOfvJhdMT"
   },
   "outputs": [],
   "source": []
  }
 ],
 "metadata": {
  "colab": {
   "provenance": []
  },
  "kernelspec": {
   "display_name": "Python 3 (ipykernel)",
   "language": "python",
   "name": "python3"
  },
  "language_info": {
   "codemirror_mode": {
    "name": "ipython",
    "version": 3
   },
   "file_extension": ".py",
   "mimetype": "text/x-python",
   "name": "python",
   "nbconvert_exporter": "python",
   "pygments_lexer": "ipython3",
   "version": "3.11.5"
  }
 },
 "nbformat": 4,
 "nbformat_minor": 4
}
