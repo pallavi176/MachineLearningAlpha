{
 "cells": [
  {
   "cell_type": "markdown",
   "metadata": {
    "id": "Pc-YqzQXuZjR"
   },
   "source": [
    "### User-Defined Custom Functions"
   ]
  },
  {
   "cell_type": "code",
   "execution_count": 1,
   "metadata": {
    "colab": {
     "base_uri": "https://localhost:8080/"
    },
    "id": "urWxunljW9Wm",
    "outputId": "cc685be2-a52a-4a73-cb9b-7a88ef408c34"
   },
   "outputs": [
    {
     "name": "stdout",
     "output_type": "stream",
     "text": [
      "6\n"
     ]
    }
   ],
   "source": [
    "\"\"\"\n",
    "((2 * 3) + 7)/3\n",
    "\"\"\"\n",
    "\n",
    "operator = \"mul\"\n",
    "input1 = 2\n",
    "input2 = 3\n",
    "\n",
    "if(operator == \"add\"):\n",
    "  output = input1 + input2\n",
    "  print('YOLO!')\n",
    "  output2 = output / 3\n",
    "elif(operator == \"sub\"):\n",
    "  output = input1 - input2\n",
    "elif(operator == \"mul\"):\n",
    "  output = input1 * input2\n",
    "else:\n",
    "  output = -999999999\n",
    "  print('Invalid output')\n",
    "\n",
    "print(output)"
   ]
  },
  {
   "cell_type": "code",
   "execution_count": 2,
   "metadata": {
    "colab": {
     "base_uri": "https://localhost:8080/"
    },
    "id": "6TQ_7mqoepAN",
    "outputId": "c01de257-eaae-477a-ecc1-f09df20dde1c"
   },
   "outputs": [
    {
     "name": "stdout",
     "output_type": "stream",
     "text": [
      "13\n"
     ]
    }
   ],
   "source": [
    "operator = \"add\"\n",
    "input1 = output\n",
    "input2 = 7\n",
    "\n",
    "if(operator == \"add\"):\n",
    "  output = input1 + input2\n",
    "elif(operator == \"sub\"):\n",
    "  output = input1 - input2\n",
    "elif(operator == \"mul\"):\n",
    "  output = input1 * input2\n",
    "else:\n",
    "  output = -999999999\n",
    "  print('Invalid output')\n",
    "\n",
    "print(output)"
   ]
  },
  {
   "cell_type": "code",
   "execution_count": 4,
   "metadata": {
    "colab": {
     "base_uri": "https://localhost:8080/"
    },
    "id": "7P14RPfmgKwX",
    "outputId": "93ac6c1e-66de-47b2-d56e-275f71ecd99f"
   },
   "outputs": [
    {
     "name": "stdout",
     "output_type": "stream",
     "text": [
      "4.333333333333333\n"
     ]
    }
   ],
   "source": [
    "operator = \"div\"\n",
    "input1 = output\n",
    "input2 = 3\n",
    "\n",
    "if(operator == \"add\"):\n",
    "  output = input1 + input2\n",
    "elif(operator == \"sub\"):\n",
    "  output = input1 - input2\n",
    "elif(operator == \"mul\"):\n",
    "  output = input1 * input2\n",
    "elif(operator == \"div\"):\n",
    "  output = input1/input2\n",
    "else:\n",
    "  output = -999999999\n",
    "  print('Invalid output')\n",
    "\n",
    "print(output)"
   ]
  },
  {
   "cell_type": "code",
   "execution_count": 3,
   "metadata": {
    "id": "aKj4I5d7r9Ii"
   },
   "outputs": [],
   "source": [
    "\"\"\"\n",
    "1. Mathematical Function\n",
    "y = f(x)\n",
    "f: function, transforms x -> y\n",
    "x: input\n",
    "y: output\n",
    "\n",
    "2. Function Definition Step\n",
    "def <function_name>(<argument list>):\n",
    "  ....\n",
    "\n",
    "3. Function calling step\n",
    "<function_name>(<argument_list>)\n",
    "\n",
    "4. Function tends to have 'return' step\n",
    "return <variable>\n",
    "\"\"\"\n",
    "\n",
    "def calculator(input1, input2, operator):\n",
    "  if(operator == \"add\"):\n",
    "    output = input1 + input2\n",
    "  elif(operator == \"sub\"):\n",
    "    output = input1 - input2\n",
    "  elif(operator == \"mul\"):\n",
    "    output = input1 * input2\n",
    "  elif(operator == \"div\"):\n",
    "    output = input1/input2\n",
    "  else:\n",
    "    output = -999999999\n",
    "    print('Invalid output')\n",
    "  return output"
   ]
  },
  {
   "cell_type": "code",
   "execution_count": 4,
   "metadata": {
    "colab": {
     "base_uri": "https://localhost:8080/"
    },
    "id": "YegeEf2YtgQn",
    "outputId": "7c091532-d6d3-43af-fd90-b4300f1b3030"
   },
   "outputs": [
    {
     "name": "stdout",
     "output_type": "stream",
     "text": [
      "4.333333333333333\n"
     ]
    }
   ],
   "source": [
    "output = calculator(2, 3, \"mul\")\n",
    "output = calculator(output, 7, \"add\")\n",
    "output = calculator(output, 3, \"div\")\n",
    "print(output)"
   ]
  },
  {
   "cell_type": "code",
   "execution_count": 5,
   "metadata": {
    "colab": {
     "base_uri": "https://localhost:8080/"
    },
    "id": "4KEsUPkFtkit",
    "outputId": "85a619ec-84ab-4e00-c734-f9d570870ac5"
   },
   "outputs": [
    {
     "name": "stdout",
     "output_type": "stream",
     "text": [
      "5\n",
      "6\n"
     ]
    }
   ],
   "source": [
    "# default parameter: if no value for a argument is mentioned, I will use the default value\n",
    "\n",
    "def calculator(input1, input2, operator='add'):\n",
    "  if(operator == \"add\"):\n",
    "    output = input1 + input2\n",
    "  elif(operator == \"sub\"):\n",
    "    output = input1 - input2\n",
    "  elif(operator == \"mul\"):\n",
    "    output = input1 * input2\n",
    "  elif(operator == \"div\"):\n",
    "    output = input1/input2\n",
    "  else:\n",
    "    output = -999999999\n",
    "    print('Invalid output')\n",
    "  return output\n",
    "\n",
    "\n",
    "# if not argument is mentioned\n",
    "output = calculator(2, 3)\n",
    "print(output)\n",
    "\n",
    "\n",
    "# if argument is mentioned: override!\n",
    "output = calculator(2, 3, 'mul')\n",
    "print(output)"
   ]
  },
  {
   "cell_type": "markdown",
   "metadata": {
    "id": "P2EabP6TufdH"
   },
   "source": [
    "### Built-in function"
   ]
  },
  {
   "cell_type": "code",
   "execution_count": 6,
   "metadata": {
    "colab": {
     "base_uri": "https://localhost:8080/"
    },
    "id": "t_k4OGDOug2_",
    "outputId": "248b960e-7f21-4dc2-bc83-471bb08ed2f4"
   },
   "outputs": [
    {
     "name": "stdout",
     "output_type": "stream",
     "text": [
      "Heyyy\n"
     ]
    },
    {
     "data": {
      "text/plain": [
       "int"
      ]
     },
     "execution_count": 6,
     "metadata": {},
     "output_type": "execute_result"
    }
   ],
   "source": [
    "\"\"\"\n",
    "Built-in: Python itself provides these functions!\n",
    "\"\"\"\n",
    "print('Heyyy')\n",
    "type(output)"
   ]
  },
  {
   "cell_type": "code",
   "execution_count": 7,
   "metadata": {
    "id": "JplRyYniutwh"
   },
   "outputs": [
    {
     "data": {
      "text/plain": [
       "range(0, 5)"
      ]
     },
     "execution_count": 7,
     "metadata": {},
     "output_type": "execute_result"
    }
   ],
   "source": [
    "x = str(3)\n",
    "range(5)"
   ]
  },
  {
   "cell_type": "markdown",
   "metadata": {
    "id": "33dz-mJ-vhWV"
   },
   "source": [
    "### Modules"
   ]
  },
  {
   "cell_type": "code",
   "execution_count": 8,
   "metadata": {
    "colab": {
     "base_uri": "https://localhost:8080/"
    },
    "id": "MH8CvopTvi8Y",
    "outputId": "7d7b3848-1937-4b50-804f-42551159d003"
   },
   "outputs": [
    {
     "name": "stdout",
     "output_type": "stream",
     "text": [
      "3.4641016151377544\n",
      "3.4641016151377544\n",
      "3.4641016151377544\n"
     ]
    }
   ],
   "source": [
    "\"\"\"\n",
    "Module: <file_name>.py\n",
    "Can have multiple functions within it\n",
    "\n",
    "**Style 1**\n",
    "Syntax: import <module_name>\n",
    "Usage: <module_name>.<function_name>\n",
    "\n",
    "**Style 2**\n",
    "from <module_name> import <function_name>\n",
    "\n",
    "**Style 3** Alias\n",
    "import <module_name> as <given_name>\n",
    "\"\"\"\n",
    "\n",
    "import math\n",
    "print(math.sqrt(12))\n",
    "\n",
    "from math import sqrt\n",
    "print(sqrt(12))\n",
    "\n",
    "import math as m\n",
    "print(m.sqrt(12))"
   ]
  },
  {
   "cell_type": "markdown",
   "metadata": {
    "id": "-1_YFUc4xqlC"
   },
   "source": [
    "### Package"
   ]
  },
  {
   "cell_type": "code",
   "execution_count": 9,
   "metadata": {
    "id": "qzQWlI1mwpy4"
   },
   "outputs": [],
   "source": [
    "\"\"\"\n",
    "A collection of modules!\n",
    "\n",
    "from <package_name>.<module_name> import <function_name>\n",
    "\n",
    "\"\"\"\n",
    "\n",
    "from sklearn.svm import SVC\n",
    "from sklearn.tree import DecisionTreeClassifier"
   ]
  },
  {
   "cell_type": "code",
   "execution_count": null,
   "metadata": {},
   "outputs": [],
   "source": []
  }
 ],
 "metadata": {
  "colab": {
   "provenance": []
  },
  "kernelspec": {
   "display_name": "Python 3 (ipykernel)",
   "language": "python",
   "name": "python3"
  },
  "language_info": {
   "codemirror_mode": {
    "name": "ipython",
    "version": 3
   },
   "file_extension": ".py",
   "mimetype": "text/x-python",
   "name": "python",
   "nbconvert_exporter": "python",
   "pygments_lexer": "ipython3",
   "version": "3.11.5"
  }
 },
 "nbformat": 4,
 "nbformat_minor": 4
}
