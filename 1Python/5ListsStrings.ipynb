{
 "cells": [
  {
   "cell_type": "markdown",
   "metadata": {
    "id": "tMdMIBvwL7C3"
   },
   "source": [
    "### Lists"
   ]
  },
  {
   "cell_type": "markdown",
   "metadata": {
    "id": "8SWr2kFfRvtt"
   },
   "source": [
    "https://www.w3schools.com/python/python_ref_list.asp"
   ]
  },
  {
   "cell_type": "code",
   "execution_count": 1,
   "metadata": {
    "colab": {
     "base_uri": "https://localhost:8080/"
    },
    "id": "gtuktUny9dmi",
    "outputId": "2742ffb9-3cb7-4b84-bbd3-d2031f47095e"
   },
   "outputs": [
    {
     "name": "stdin",
     "output_type": "stream",
     "text": [
      "Marks:  95\n",
      "Marks:  73\n",
      "Marks:  84\n",
      "Marks:  91\n"
     ]
    },
    {
     "name": "stdout",
     "output_type": "stream",
     "text": [
      "85.75\n"
     ]
    }
   ],
   "source": [
    "\"\"\"\n",
    "Record marks of 10 students\n",
    "\"\"\"\n",
    "\n",
    "s1 = int(input('Marks: '))\n",
    "s2 = int(input('Marks: '))\n",
    "s3 = int(input('Marks: '))\n",
    "s4 = int(input('Marks: '))\n",
    "\n",
    "avg = (s1 + s2 + s3 + s4)/4\n",
    "print(avg)"
   ]
  },
  {
   "cell_type": "code",
   "execution_count": 3,
   "metadata": {},
   "outputs": [
    {
     "name": "stdin",
     "output_type": "stream",
     "text": [
      "Marks:  1\n",
      "Marks:  2\n",
      "Marks:  3\n",
      "Marks:  4\n"
     ]
    },
    {
     "name": "stdout",
     "output_type": "stream",
     "text": [
      "[1, 2, 3, 4]\n"
     ]
    }
   ],
   "source": [
    "# 1. Loop: To record repetitively the marks of the student\n",
    "# 2. Data Structure: List -> Collection of different objects\n",
    "\n",
    "\"\"\"\n",
    "List:\n",
    "\n",
    "a. List Definition\n",
    "- <list_name> = [<int1>, <int2>, <string1>]\n",
    "class_marks = [55, 63, 77]\n",
    "- <list_name> = []\n",
    "\n",
    "b. Methods/Ops on top of the list\n",
    "<list_name>.<function_name>(<argument>)\n",
    "append() : add to the end of the list\n",
    "\n",
    "\"\"\"\n",
    "\n",
    "class_marks = [] # defining an empty list\n",
    "\n",
    "for i in range(4):\n",
    "  single_student_marks = int(input('Marks: ')) # each iteration, the variable gets over-written\n",
    "  class_marks.append(single_student_marks)\n",
    "\n",
    "print(class_marks)"
   ]
  },
  {
   "cell_type": "code",
   "execution_count": 4,
   "metadata": {
    "colab": {
     "base_uri": "https://localhost:8080/"
    },
    "id": "Hj8ZY8SQGRMI",
    "outputId": "6fef95f9-b3b4-4123-84e7-5159583df339"
   },
   "outputs": [
    {
     "name": "stdin",
     "output_type": "stream",
     "text": [
      "Marks:  90\n"
     ]
    },
    {
     "name": "stdout",
     "output_type": "stream",
     "text": [
      "Class Marks at iter  0   [90]\n"
     ]
    },
    {
     "name": "stdin",
     "output_type": "stream",
     "text": [
      "Marks:  75\n"
     ]
    },
    {
     "name": "stdout",
     "output_type": "stream",
     "text": [
      "Class Marks at iter  1   [90, 75]\n"
     ]
    },
    {
     "name": "stdin",
     "output_type": "stream",
     "text": [
      "Marks:  77\n"
     ]
    },
    {
     "name": "stdout",
     "output_type": "stream",
     "text": [
      "Class Marks at iter  2   [90, 75, 77]\n"
     ]
    },
    {
     "name": "stdin",
     "output_type": "stream",
     "text": [
      "Marks:  84\n"
     ]
    },
    {
     "name": "stdout",
     "output_type": "stream",
     "text": [
      "Class Marks at iter  3   [90, 75, 77, 84]\n"
     ]
    }
   ],
   "source": [
    "# 1. Loop: To record repetitively the marks of the student\n",
    "# 2. Data Structure: List -> Collection of different objects\n",
    "\n",
    "\"\"\"\n",
    "List:\n",
    "\n",
    "a. List Definition\n",
    "- <list_name> = [<int1>, <int2>, <string1>]\n",
    "class_marks = [55, 63, 77]\n",
    "- <list_name> = []\n",
    "\n",
    "b. Methods/Ops on top of the list\n",
    "<list_name>.<function_name>(<argument>)\n",
    "append() : add to the end of the list\n",
    "\n",
    "\"\"\"\n",
    "\n",
    "class_marks = [] # defining an empty list\n",
    "\n",
    "for i in range(4):\n",
    "  single_student_marks = int(input('Marks: ')) # each iteration, the variable gets over-written\n",
    "  class_marks.append(single_student_marks)\n",
    "  print('Class Marks at iter ', i, ' ', class_marks)\n",
    "\n",
    "\n",
    "#print(class_marks)"
   ]
  },
  {
   "cell_type": "code",
   "execution_count": 5,
   "metadata": {
    "colab": {
     "base_uri": "https://localhost:8080/"
    },
    "id": "5ZTKbO7EId6E",
    "outputId": "7cdc481e-ed1e-45ab-b1f3-23c05cdeac17"
   },
   "outputs": [
    {
     "name": "stdout",
     "output_type": "stream",
     "text": [
      "90\n"
     ]
    }
   ],
   "source": [
    "\"\"\"\n",
    "Index: Location of an element\n",
    "- Starts with 0\n",
    "\n",
    "List: [90, 75, 77, 84]\n",
    "Index: 0,  1,   2,  3\n",
    "\n",
    "Access: <list_name>[<index>]\n",
    "\"\"\"\n",
    "\n",
    "print(class_marks[0])"
   ]
  },
  {
   "cell_type": "code",
   "execution_count": 6,
   "metadata": {
    "colab": {
     "base_uri": "https://localhost:8080/"
    },
    "id": "dGZABgHfIvIx",
    "outputId": "0735752b-df53-4597-fa14-e1a37d284ad0"
   },
   "outputs": [
    {
     "name": "stdout",
     "output_type": "stream",
     "text": [
      "Style 1\n",
      "0 90\n",
      "1 75\n",
      "2 77\n",
      "3 84\n",
      "Style 2\n",
      "90\n",
      "75\n",
      "77\n",
      "84\n"
     ]
    }
   ],
   "source": [
    "\"\"\"\n",
    "Iterate through the list\n",
    "\n",
    "# Style 1\n",
    "len(): number of items in the object\n",
    "\n",
    "# Style 2\n",
    "\"\"\"\n",
    "\n",
    "print('Style 1')\n",
    "list_len = len(class_marks)\n",
    "for i in range(list_len):\n",
    "  # i: index, i is iterating through the length -> 0, (list_len-1)\n",
    "  print(i, class_marks[i])\n",
    "\n",
    "print('Style 2')\n",
    "for elem in class_marks:\n",
    "  # i: iterating through the list\n",
    "  print(elem)"
   ]
  },
  {
   "cell_type": "code",
   "execution_count": 7,
   "metadata": {
    "colab": {
     "base_uri": "https://localhost:8080/"
    },
    "id": "6ToN3hwGLR9W",
    "outputId": "473f90b8-cd28-4437-c232-997459d4fbc4"
   },
   "outputs": [
    {
     "name": "stdout",
     "output_type": "stream",
     "text": [
      "Before:  77\n",
      "After:  82\n"
     ]
    }
   ],
   "source": [
    "\"\"\"\n",
    "Update marks of student, given by index 2\n",
    "IMMUTABLE!\n",
    "\"\"\"\n",
    "print('Before: ', class_marks[2])\n",
    "\n",
    "class_marks[2] = class_marks[2] + 5 #update\n",
    "\n",
    "print('After: ', class_marks[2])\n"
   ]
  },
  {
   "cell_type": "code",
   "execution_count": 8,
   "metadata": {
    "colab": {
     "base_uri": "https://localhost:8080/"
    },
    "id": "xcFWclOlMO10",
    "outputId": "ccc8fddb-3043-48a4-da28-bf092a432c4d"
   },
   "outputs": [
    {
     "name": "stdout",
     "output_type": "stream",
     "text": [
      "[90, 75, 82, 84]\n"
     ]
    }
   ],
   "source": [
    "print(class_marks)"
   ]
  },
  {
   "cell_type": "code",
   "execution_count": 9,
   "metadata": {
    "colab": {
     "base_uri": "https://localhost:8080/"
    },
    "id": "TZcoIsV_MRSY",
    "outputId": "39ed5468-9bb0-44fc-c808-cdd8468e3a1a"
   },
   "outputs": [
    {
     "name": "stdout",
     "output_type": "stream",
     "text": [
      "[90, 84, 82, 75]\n"
     ]
    }
   ],
   "source": [
    "\"\"\"\n",
    "Operations/Methods on the list\n",
    "\n",
    "\"\"\"\n",
    "class_marks.sort(reverse=True)\n",
    "print(class_marks)"
   ]
  },
  {
   "cell_type": "code",
   "execution_count": 10,
   "metadata": {
    "id": "Arr-3isWMjxi"
   },
   "outputs": [],
   "source": [
    "\"\"\"\n",
    "List -> Combination of any number of datatypes\n",
    "\"\"\"\n",
    "\n",
    "new_list = [5, 6, \"meow\", 7, 7.2]"
   ]
  },
  {
   "cell_type": "code",
   "execution_count": 12,
   "metadata": {},
   "outputs": [],
   "source": [
    "#new_list.sort()\n",
    "#TypeError: '<' not supported between instances of 'str' and 'int'"
   ]
  },
  {
   "cell_type": "markdown",
   "metadata": {
    "id": "P5jZRQH8NXu7"
   },
   "source": [
    "### String"
   ]
  },
  {
   "cell_type": "code",
   "execution_count": 14,
   "metadata": {
    "id": "fxl4_kfWNYv1"
   },
   "outputs": [],
   "source": [
    "\"\"\"\n",
    "String: Collection of characters\n",
    "\n",
    "char: alphabet, number, math-op (+,-,%),\n",
    "anything on your keyboard\n",
    "\"\"\"\n",
    "\n",
    "a = \"Hello\"\n",
    "b = \"\"\"asdasdasd\n",
    "fnrjkjfs\n",
    "asdjasjnd\n",
    "\"\"\""
   ]
  },
  {
   "cell_type": "code",
   "execution_count": 17,
   "metadata": {
    "colab": {
     "base_uri": "https://localhost:8080/"
    },
    "id": "m6wbTQfQNn1z",
    "outputId": "c813dbd1-ac01-40ac-a55d-aa004f46bf42"
   },
   "outputs": [
    {
     "name": "stdout",
     "output_type": "stream",
     "text": [
      "Style 1\n",
      "0 H\n",
      "1 e\n",
      "2 l\n",
      "3 l\n",
      "4 o\n"
     ]
    }
   ],
   "source": [
    "print('Style 1')\n",
    "string_len = len(a)\n",
    "for i in range(string_len):\n",
    "  # i: index, i is iterating through the length -> 0, (list_len-1)\n",
    "  print(i, a[i])"
   ]
  },
  {
   "cell_type": "code",
   "execution_count": 18,
   "metadata": {},
   "outputs": [
    {
     "name": "stdout",
     "output_type": "stream",
     "text": [
      "Style 2\n",
      "H\n",
      "e\n",
      "l\n",
      "l\n",
      "o\n"
     ]
    }
   ],
   "source": [
    "print('Style 2')\n",
    "for elem in a:\n",
    "  # i: iterating through the string\n",
    "  print(elem)"
   ]
  },
  {
   "cell_type": "code",
   "execution_count": 19,
   "metadata": {
    "colab": {
     "base_uri": "https://localhost:8080/"
    },
    "id": "tZ9JQHZeOfpB",
    "outputId": "2b474246-131c-417c-cc41-abba3a6e2ab4"
   },
   "outputs": [
    {
     "name": "stdout",
     "output_type": "stream",
     "text": [
      "False\n"
     ]
    }
   ],
   "source": [
    "\"\"\"\n",
    "String Methods\n",
    "<string_name>.<function_name>(<arguments>)\n",
    "\"\"\"\n",
    "\n",
    "txt = \"CompanyX2\"\n",
    "x = txt.isalpha()\n",
    "print(x)"
   ]
  },
  {
   "cell_type": "code",
   "execution_count": 20,
   "metadata": {
    "colab": {
     "base_uri": "https://localhost:8080/"
    },
    "id": "VeUWvt5QN1BA",
    "outputId": "30f70946-113b-4544-db5f-0df35048ca26"
   },
   "outputs": [
    {
     "name": "stdout",
     "output_type": "stream",
     "text": [
      "John#Peter#Vicky\n",
      "John Peter Vicky\n"
     ]
    }
   ],
   "source": [
    "mylist = [\"John\", \"Peter\", \"Vicky\"] #list of strings\n",
    "x = \"#\".join(mylist)\n",
    "print(x)\n",
    "\n",
    "x = \" \".join(mylist)\n",
    "print(x)"
   ]
  },
  {
   "cell_type": "code",
   "execution_count": 21,
   "metadata": {
    "colab": {
     "base_uri": "https://localhost:8080/"
    },
    "id": "CVcQGhQ4PaKA",
    "outputId": "114013c0-52e4-4924-a59e-f82482867bf4"
   },
   "outputs": [
    {
     "name": "stdout",
     "output_type": "stream",
     "text": [
      "John#Peter#Vicky\n"
     ]
    }
   ],
   "source": [
    "str1 = \"John\"\n",
    "str2 = \"Peter\"\n",
    "\n",
    "x = str1 + \"#\" + str2 + \"#Vicky\" # concat\n",
    "print(x)"
   ]
  },
  {
   "cell_type": "code",
   "execution_count": 22,
   "metadata": {
    "id": "1loNgdrjQAnY"
   },
   "outputs": [],
   "source": [
    "# String are immuatable\n",
    "# CAN'T do: str1[2] = 'a' => No update operation!"
   ]
  },
  {
   "cell_type": "code",
   "execution_count": 23,
   "metadata": {
    "colab": {
     "base_uri": "https://localhost:8080/"
    },
    "id": "JzsakZe8QeQG",
    "outputId": "d0744f23-d62b-46c7-95fd-33084451f305"
   },
   "outputs": [
    {
     "name": "stdout",
     "output_type": "stream",
     "text": [
      "Jo\n",
      "Jo\n",
      "hn\n"
     ]
    }
   ],
   "source": [
    "\"\"\"\n",
    "Slicing: Choose a subset of the string\n",
    "\n",
    "<string_name>[start:end] -> pick chars from start to end-1\n",
    "\"\"\"\n",
    "\n",
    "print(str1[0:2]) # start to end-1\n",
    "print(str1[:2]) # 0 to end-1\n",
    "print(str1[2:]) # start to full_string_length (last index)\n"
   ]
  },
  {
   "cell_type": "code",
   "execution_count": null,
   "metadata": {
    "id": "bLTEY888Q6NW"
   },
   "outputs": [],
   "source": []
  }
 ],
 "metadata": {
  "colab": {
   "provenance": []
  },
  "kernelspec": {
   "display_name": "Python 3 (ipykernel)",
   "language": "python",
   "name": "python3"
  },
  "language_info": {
   "codemirror_mode": {
    "name": "ipython",
    "version": 3
   },
   "file_extension": ".py",
   "mimetype": "text/x-python",
   "name": "python",
   "nbconvert_exporter": "python",
   "pygments_lexer": "ipython3",
   "version": "3.11.5"
  }
 },
 "nbformat": 4,
 "nbformat_minor": 4
}
